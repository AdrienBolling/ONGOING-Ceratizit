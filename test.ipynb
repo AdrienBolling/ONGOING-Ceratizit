{
 "cells": [
  {
   "cell_type": "code",
   "execution_count": 1,
   "id": "initial_id",
   "metadata": {
    "ExecuteTime": {
     "end_time": "2024-10-16T08:49:24.054644Z",
     "start_time": "2024-10-16T08:49:22.473377Z"
    },
    "collapsed": true
   },
   "outputs": [],
   "source": [
    "import numpy as np\n",
    "from ongoing.knowledge.grid import KnowledgeGrid, Technician\n",
    "from ongoing.knowledge.grid import _compute_experience_without_supervisor, _propagate_increase"
   ]
  },
  {
   "cell_type": "code",
   "execution_count": 2,
   "id": "5f9bcbddfb19e50d",
   "metadata": {
    "ExecuteTime": {
     "end_time": "2024-10-16T08:49:24.059874Z",
     "start_time": "2024-10-16T08:49:24.058146Z"
    }
   },
   "outputs": [],
   "source": [
    "# Create a dummy tech\n",
    "tech = Technician(id=0, name='test', learning_rate=0.9)"
   ]
  },
  {
   "cell_type": "code",
   "execution_count": 3,
   "id": "9605739981286f59",
   "metadata": {
    "ExecuteTime": {
     "end_time": "2024-10-16T08:49:24.380432Z",
     "start_time": "2024-10-16T08:49:24.074632Z"
    }
   },
   "outputs": [],
   "source": [
    "# Create a technician grid\n",
    "size = (10, 10)\n",
    "features_min = np.array([0, 0])\n",
    "features_max = np.array([1, 1])\n",
    "grid = KnowledgeGrid(size=size, technician=tech, feature_min=features_min, feature_max=features_max)"
   ]
  },
  {
   "cell_type": "code",
   "execution_count": 4,
   "id": "8555395fbace9679",
   "metadata": {
    "ExecuteTime": {
     "end_time": "2024-10-16T08:49:24.473224Z",
     "start_time": "2024-10-16T08:49:24.385681Z"
    }
   },
   "outputs": [],
   "source": [
    "# Create a dummy embedding\n",
    "embedding = np.array([0.5, 0.5])\n"
   ]
  },
  {
   "cell_type": "code",
   "execution_count": 17,
   "id": "5f634e99",
   "metadata": {},
   "outputs": [
    {
     "name": "stdout",
     "output_type": "stream",
     "text": [
      "Scaling factor: nan, Increment: nan\n"
     ]
    },
    {
     "data": {
      "text/plain": [
       "(Array(4, dtype=int32), Array(4, dtype=int32))"
      ]
     },
     "execution_count": 17,
     "metadata": {},
     "output_type": "execute_result"
    }
   ],
   "source": [
    "# Add the embedding to the grid\n",
    "grid.add_ticket_knowledge(embedding)\n",
    "\n",
    "\n",
    "# Find coords of the embedding\n",
    "coords = grid.embedding_to_coords(embedding)\n",
    "coords"
   ]
  },
  {
   "cell_type": "code",
   "execution_count": 6,
   "id": "df3187a3",
   "metadata": {},
   "outputs": [],
   "source": [
    "# Compute the experience without supervisor\n",
    "experience = _compute_experience_without_supervisor(grid._grid, coords, 0.05)"
   ]
  },
  {
   "cell_type": "code",
   "execution_count": 18,
   "id": "10dca363",
   "metadata": {},
   "outputs": [
    {
     "data": {
      "text/plain": [
       "Array(0.6452879, dtype=float32)"
      ]
     },
     "execution_count": 18,
     "metadata": {},
     "output_type": "execute_result"
    }
   ],
   "source": [
    "experience"
   ]
  },
  {
   "cell_type": "code",
   "execution_count": 34,
   "id": "6db3ed45",
   "metadata": {},
   "outputs": [],
   "source": [
    "incr = (np.log(1 + np.exp(experience)) - experience)*0.9"
   ]
  },
  {
   "cell_type": "code",
   "execution_count": 35,
   "id": "01a31af4",
   "metadata": {},
   "outputs": [
    {
     "data": {
      "text/plain": [
       "Array(0.17841281, dtype=float32)"
      ]
     },
     "execution_count": 35,
     "metadata": {},
     "output_type": "execute_result"
    }
   ],
   "source": [
    "incr"
   ]
  },
  {
   "cell_type": "code",
   "execution_count": 36,
   "id": "e1d41210",
   "metadata": {},
   "outputs": [
    {
     "data": {
      "text/plain": [
       "Array(1.6959523, dtype=float32)"
      ]
     },
     "execution_count": 36,
     "metadata": {},
     "output_type": "execute_result"
    }
   ],
   "source": [
    "experience + incr"
   ]
  },
  {
   "cell_type": "code",
   "execution_count": 37,
   "id": "68ec49eb",
   "metadata": {},
   "outputs": [],
   "source": [
    "experience = experience + incr"
   ]
  }
 ],
 "metadata": {
  "kernelspec": {
   "display_name": ".venv",
   "language": "python",
   "name": "python3"
  },
  "language_info": {
   "codemirror_mode": {
    "name": "ipython",
    "version": 3
   },
   "file_extension": ".py",
   "mimetype": "text/x-python",
   "name": "python",
   "nbconvert_exporter": "python",
   "pygments_lexer": "ipython3",
   "version": "3.9.20"
  }
 },
 "nbformat": 4,
 "nbformat_minor": 5
}
