{
 "cells": [
  {
   "cell_type": "code",
   "execution_count": 54,
   "metadata": {},
   "outputs": [
    {
     "name": "stdout",
     "output_type": "stream",
     "text": [
      "Sampled Point: [[-0.36235048 -1.40183123]\n",
      " [ 0.71687626 -0.65281366]\n",
      " [-0.64066452 -0.67805725]\n",
      " [-0.88475048 -0.51346059]\n",
      " [-0.66848735 -2.75427684]\n",
      " [-0.6114825   0.74353354]\n",
      " [-0.70475646 -0.47989721]\n",
      " [-1.70351565 -0.13017421]\n",
      " [ 1.15771888  1.21262426]\n",
      " [-3.01579967  1.57081495]]\n",
      "Log Probability (GMM1): -3.2446710714759326\n",
      "Log Probability (GMM2): -43.35009316532238\n"
     ]
    }
   ],
   "source": [
    "import numpy as np\n",
    "from sklearn.mixture import GaussianMixture\n",
    "\n",
    "# Example: Creating two GaussianMixture models\n",
    "gmm1 = GaussianMixture(n_components=2, random_state=42)\n",
    "gmm2 = GaussianMixture(n_components=2, random_state=42)\n",
    "\n",
    "# Fit the models on different samples\n",
    "sample1 = np.random.randn(100, 2)  # Example 2D data\n",
    "sample2 = np.random.randn(100, 2) + 5  # Different sample\n",
    "gmm1.fit(sample1)\n",
    "gmm2.fit(sample2)\n",
    "\n",
    "# Sample from the first GMM\n",
    "sampled_point, _ = gmm1.sample(10)  # Sampling a single point\n",
    "\n",
    "# Score the sampled point using both GMMs\n",
    "log_prob_gmm1 = gmm1.score(sampled_point)  # Log probability from GMM1\n",
    "log_prob_gmm2 = gmm2.score(sampled_point)  # Log probability from GMM2\n",
    "\n",
    "print(\"Sampled Point:\", sampled_point)\n",
    "print(\"Log Probability (GMM1):\", log_prob_gmm1)\n",
    "print(\"Log Probability (GMM2):\", log_prob_gmm2)\n"
   ]
  },
  {
   "cell_type": "code",
   "execution_count": 55,
   "metadata": {},
   "outputs": [
    {
     "name": "stdout",
     "output_type": "stream",
     "text": [
      "Sampled Points:\n",
      " [[-4.25994699e-01  3.66486401e-01]\n",
      " [ 7.20360402e-01 -2.26875817e-01]\n",
      " [-8.71429614e-01 -4.03091846e-01]\n",
      " [ 6.61182658e-01  2.80741076e-01]\n",
      " [ 9.52375629e-01 -2.60715419e-01]\n",
      " [ 8.71654233e-01 -1.31148938e+00]\n",
      " [ 1.88381322e+00  1.82769375e-01]\n",
      " [ 1.11710238e+00  3.71929051e-01]\n",
      " [ 1.54811964e+00 -5.92301041e-01]\n",
      " [-4.99017019e-01 -8.89538190e-01]\n",
      " [ 8.53347105e-01 -9.81835784e-01]\n",
      " [ 8.41323899e-01  7.93670521e-02]\n",
      " [ 1.19800486e+00  4.59009008e-01]\n",
      " [ 9.99605412e-01 -1.13811530e-01]\n",
      " [ 3.71973160e-01  1.03287634e+00]\n",
      " [ 8.03776662e-01 -7.53799741e-01]\n",
      " [ 2.53049226e-01 -1.16914509e+00]\n",
      " [ 9.08947170e-01 -1.32330115e+00]\n",
      " [ 1.37727792e+00  4.32938290e-01]\n",
      " [-9.48136153e-02 -3.91804013e-01]\n",
      " [ 6.55147826e-01 -3.09189863e-01]\n",
      " [ 1.75359261e+00  1.82755204e-03]\n",
      " [ 5.04039194e-01  5.52382569e-01]\n",
      " [ 7.54841109e-01 -1.27106153e+00]\n",
      " [ 3.64947600e-01 -5.26673354e-01]\n",
      " [ 7.89441184e-01  3.99112198e-01]\n",
      " [-5.26974259e-01 -1.00331528e-01]\n",
      " [ 1.17554411e+00 -2.95412328e-02]\n",
      " [-3.89913622e-02  1.97964601e-01]\n",
      " [ 8.81567531e-01 -1.04792270e-01]\n",
      " [ 1.62675700e+00 -3.98932965e-01]\n",
      " [-4.95119458e-01  2.12617917e-01]\n",
      " [ 2.41518126e-01  3.71203574e-01]\n",
      " [ 4.14280049e-01 -6.80439978e-01]\n",
      " [-2.25429550e-01  4.86872942e-01]\n",
      " [ 5.11519158e-02  6.56998505e-01]\n",
      " [ 2.11873515e+00  1.27402146e+00]\n",
      " [ 5.09419188e-01 -3.87622217e-01]\n",
      " [ 1.00096085e+00 -1.29225706e+00]\n",
      " [ 5.36697918e-01  8.35504843e-02]\n",
      " [-4.22053909e-01 -1.05072525e+00]\n",
      " [ 1.20998288e+00 -1.44543129e-01]\n",
      " [-2.67614587e-01 -3.77102753e-01]\n",
      " [ 7.12928288e-01  2.88740627e-01]\n",
      " [ 1.30690049e-01  2.86187914e-01]\n",
      " [ 1.08275260e+00 -9.32391658e-02]\n",
      " [ 1.19377371e+00 -8.22165864e-01]\n",
      " [ 1.95584939e-01 -1.70242586e-01]\n",
      " [ 5.49195795e-01 -3.21023108e-01]\n",
      " [ 1.62068620e+00  1.37008038e-01]\n",
      " [ 9.64603348e-01 -4.88022787e-01]\n",
      " [ 4.81140349e-01  8.57307089e-02]\n",
      " [-9.17432627e-01 -8.40540894e-01]\n",
      " [ 3.21533179e-01 -3.34479605e-01]\n",
      " [ 1.86556234e+00  5.45302189e-01]\n",
      " [-2.80995565e-01  1.09973190e+00]\n",
      " [ 5.33431542e-01  4.31237912e-02]\n",
      " [ 8.51489025e-01 -8.04801792e-01]\n",
      " [-5.54464574e-01 -2.40106970e-01]\n",
      " [ 1.84322461e-01 -9.90257785e-01]\n",
      " [-1.09311326e-01 -1.49365445e+00]\n",
      " [-5.78066154e-01  7.47198676e-01]\n",
      " [ 1.35922823e+00 -1.07602143e-01]\n",
      " [ 5.60325015e-01 -5.01887527e-01]\n",
      " [ 1.57415866e+00  4.51661117e-01]\n",
      " [-7.73863596e-01  1.47639286e+00]\n",
      " [-1.39994940e+00  1.56591225e+00]\n",
      " [-5.17259408e-01  9.65403911e-01]\n",
      " [-9.09285164e-01 -1.09611455e+00]\n",
      " [-1.89081380e+00  1.82246837e-01]\n",
      " [-3.34088900e-01  2.03842519e+00]\n",
      " [-1.64000958e+00  2.04267243e-02]\n",
      " [ 2.35654286e-01  1.25374774e+00]\n",
      " [-1.53297365e+00 -3.97352895e-01]\n",
      " [-1.41270928e+00 -7.17556011e-02]\n",
      " [-8.55585368e-01  9.77225336e-01]\n",
      " [-8.93977791e-01 -3.72052885e-01]\n",
      " [-2.34365073e+00 -1.90944429e+00]\n",
      " [-7.98115237e-01  1.66886379e+00]\n",
      " [-9.80878821e-01  1.44926520e+00]\n",
      " [-1.30367772e+00 -1.39806913e+00]\n",
      " [-1.82873097e+00 -8.80401803e-01]\n",
      " [-2.51059011e+00 -3.65768403e-01]\n",
      " [-5.85216861e-01  2.41276791e-01]\n",
      " [-2.08228031e-01  9.71423507e-01]\n",
      " [-1.23439079e+00  3.05806114e-01]\n",
      " [-1.67217719e+00  1.17261974e-02]\n",
      " [-1.85058398e+00  4.64882722e-01]\n",
      " [-2.34837857e+00  1.08572981e+00]\n",
      " [-9.99367899e-01 -7.90448224e-01]\n",
      " [-7.73792771e-01  1.48842617e+00]\n",
      " [-1.34627640e+00  5.63293601e-01]\n",
      " [-1.31806828e+00 -4.28557949e-01]\n",
      " [ 1.25741469e-01  7.56581700e-01]\n",
      " [-1.29940100e+00  8.54922302e-01]\n",
      " [-5.80356604e-01 -4.06489353e-01]\n",
      " [-1.39110784e+00  2.68435216e-02]\n",
      " [-7.06225847e-01  1.19434263e+00]\n",
      " [-5.49255972e-01 -2.01908841e-01]\n",
      " [-1.57964954e+00 -1.45098880e-01]]\n",
      "\n",
      "Log Probabilities (GMM1):\n",
      " [-2.2994703  -1.62796813 -2.30622581 -1.8235401  -1.7905153  -3.43466989\n",
      " -3.22107343 -2.1362581  -2.98487329 -2.47778002 -2.5922007  -1.72727636\n",
      " -2.3071115  -1.79756215 -3.19967772 -2.13418515 -2.65210887 -3.51709078\n",
      " -2.47630634 -1.79895548 -1.62478286 -2.92741734 -2.20183746 -3.18803075\n",
      " -1.69482271 -1.98447603 -2.10845198 -1.97493685 -1.96775715 -1.70608997\n",
      " -2.90276312 -2.21721108 -2.01197799 -1.84414942 -2.36087509 -2.51486276\n",
      " -5.34439665 -1.61932755 -3.55463097 -1.65325702 -2.66277485 -2.02782385\n",
      " -1.92097038 -1.83997231 -1.9612517  -1.87497493 -2.72307531 -1.62650536\n",
      " -1.59869078 -2.66539086 -1.95548569 -1.6571183  -2.62833068 -1.59961245\n",
      " -3.4164778  -2.97113435 -1.63006224 -2.25838939 -2.11337301 -2.29133928\n",
      " -3.50640235 -2.57449103 -2.22615168 -1.70409421 -2.77979367 -3.20867501\n",
      " -4.16874202 -2.74784286 -2.95050355 -3.40494424 -3.85129527 -2.83717905\n",
      " -3.56596585 -2.63251819 -2.53998112 -2.74692416 -2.30407955 -4.39579368\n",
      " -3.46557335 -3.32240169 -3.35917562 -3.04813006 -4.67458861 -2.25906708\n",
      " -2.89485639 -2.51488077 -2.88150424 -3.58760192 -6.28018161 -2.59921842\n",
      " -3.22271219 -2.783661   -2.4864861  -2.66371194 -2.98825025 -2.15844172\n",
      " -2.54350276 -2.90309463 -2.11018488 -2.69981314]\n",
      "\n",
      "Log Probabilities (GMM2):\n",
      " [-27.59700138 -23.60131845 -33.07792933 -22.11113146 -22.6394319\n",
      " -27.21382664 -17.25592266 -19.71901183 -21.31562215 -32.75167465\n",
      " -25.90598893 -21.94264203 -19.08870963 -21.89438857 -21.19539571\n",
      " -25.21598147 -29.69748934 -27.08954571 -18.41740434 -28.43445707\n",
      " -24.21876261 -18.35269029 -21.99214714 -27.59688131 -26.49322303\n",
      " -21.11326743 -29.8296924  -20.817245   -25.98701673 -22.40192313\n",
      " -20.27382071 -28.52631458 -23.9080948  -26.84293354 -26.05152068\n",
      " -23.98984821 -13.2034212  -25.22978943 -26.52788324 -23.38836428\n",
      " -32.97321619 -21.07405112 -29.35292462 -21.83710943 -24.77331654\n",
      " -21.44900161 -23.7079356  -26.03365365 -24.78225963 -18.40684139\n",
      " -23.43156126 -23.65644378 -35.12812151 -25.98451355 -16.16449841\n",
      " -24.47937553 -23.54529181 -25.19441331 -30.51195032 -29.30562334\n",
      " -33.10932236 -27.25525151 -20.30837412 -25.41143263 -17.5640941\n",
      " -26.31228483 -30.04861063 -26.23005169 -36.16081055 -37.76626918\n",
      " -22.34635937 -36.57562777 -21.26597271 -37.41861927 -35.35372146\n",
      " -28.22962796 -33.09971426 -50.07318274 -25.95540258 -27.66023856\n",
      " -40.08985293 -41.48183534 -44.48895531 -28.96168935 -24.44679931\n",
      " -32.8115472  -36.83239825 -36.49146671 -38.15134094 -35.44442727\n",
      " -26.27967014 -32.68223569 -36.07874857 -23.2845443  -31.43676625\n",
      " -31.30082371 -34.84529204 -26.68382974 -30.33789604 -36.77127092]\n",
      "\n",
      "Total Log-Likelihood (GMM1): -260.72207353611725\n",
      "Total Log-Likelihood (GMM2): -2731.748173895605\n"
     ]
    }
   ],
   "source": [
    "import numpy as np\n",
    "from sklearn.mixture import GaussianMixture\n",
    "\n",
    "# Example: Creating two GaussianMixture models\n",
    "gmm1 = GaussianMixture(n_components=2, random_state=42)\n",
    "gmm2 = GaussianMixture(n_components=2, random_state=42)\n",
    "\n",
    "# Fit the models on different samples\n",
    "sample1 = np.random.randn(100, 2)  # Example 2D data\n",
    "sample2 = np.random.randn(100, 2) + 5  # Different sample\n",
    "gmm1.fit(sample1)\n",
    "gmm2.fit(sample2)\n",
    "\n",
    "# Sample 100 points from the first GMM\n",
    "sampled_points, _ = gmm1.sample(100)  # Sampling 100 points\n",
    "\n",
    "# Score the sampled points using both GMMs\n",
    "log_prob_gmm1 = gmm1.score_samples(sampled_points)  # Log probabilities from GMM1\n",
    "log_prob_gmm2 = gmm2.score_samples(sampled_points)  # Log probabilities from GMM2\n",
    "\n",
    "# Print results\n",
    "print(\"Sampled Points:\\n\", sampled_points)\n",
    "print(\"\\nLog Probabilities (GMM1):\\n\", log_prob_gmm1)\n",
    "print(\"\\nLog Probabilities (GMM2):\\n\", log_prob_gmm2)\n",
    "\n",
    "# Optionally, compare the total log-likelihood for the two GMMs\n",
    "total_log_prob_gmm1 = np.sum(log_prob_gmm1)\n",
    "total_log_prob_gmm2 = np.sum(log_prob_gmm2)\n",
    "\n",
    "print(\"\\nTotal Log-Likelihood (GMM1):\", total_log_prob_gmm1)\n",
    "print(\"Total Log-Likelihood (GMM2):\", total_log_prob_gmm2)\n"
   ]
  },
  {
   "cell_type": "code",
   "execution_count": 58,
   "metadata": {},
   "outputs": [
    {
     "data": {
      "text/plain": [
       "np.float64(0.19632808293546083)"
      ]
     },
     "execution_count": 58,
     "metadata": {},
     "output_type": "execute_result"
    }
   ],
   "source": [
    "np.exp(gmm1.score_samples(sampled_points))[1]"
   ]
  },
  {
   "cell_type": "code",
   "execution_count": 1,
   "metadata": {},
   "outputs": [
    {
     "data": {
      "application/vnd.plotly.v1+json": {
       "config": {
        "plotlyServerURL": "https://plot.ly"
       },
       "data": [
        {
         "type": "bar",
         "x": [
          1,
          2,
          3
         ],
         "y": [
          10,
          11,
          12
         ]
        }
       ],
       "layout": {
        "template": {
         "data": {
          "bar": [
           {
            "error_x": {
             "color": "#2a3f5f"
            },
            "error_y": {
             "color": "#2a3f5f"
            },
            "marker": {
             "line": {
              "color": "#E5ECF6",
              "width": 0.5
             },
             "pattern": {
              "fillmode": "overlay",
              "size": 10,
              "solidity": 0.2
             }
            },
            "type": "bar"
           }
          ],
          "barpolar": [
           {
            "marker": {
             "line": {
              "color": "#E5ECF6",
              "width": 0.5
             },
             "pattern": {
              "fillmode": "overlay",
              "size": 10,
              "solidity": 0.2
             }
            },
            "type": "barpolar"
           }
          ],
          "carpet": [
           {
            "aaxis": {
             "endlinecolor": "#2a3f5f",
             "gridcolor": "white",
             "linecolor": "white",
             "minorgridcolor": "white",
             "startlinecolor": "#2a3f5f"
            },
            "baxis": {
             "endlinecolor": "#2a3f5f",
             "gridcolor": "white",
             "linecolor": "white",
             "minorgridcolor": "white",
             "startlinecolor": "#2a3f5f"
            },
            "type": "carpet"
           }
          ],
          "choropleth": [
           {
            "colorbar": {
             "outlinewidth": 0,
             "ticks": ""
            },
            "type": "choropleth"
           }
          ],
          "contour": [
           {
            "colorbar": {
             "outlinewidth": 0,
             "ticks": ""
            },
            "colorscale": [
             [
              0,
              "#0d0887"
             ],
             [
              0.1111111111111111,
              "#46039f"
             ],
             [
              0.2222222222222222,
              "#7201a8"
             ],
             [
              0.3333333333333333,
              "#9c179e"
             ],
             [
              0.4444444444444444,
              "#bd3786"
             ],
             [
              0.5555555555555556,
              "#d8576b"
             ],
             [
              0.6666666666666666,
              "#ed7953"
             ],
             [
              0.7777777777777778,
              "#fb9f3a"
             ],
             [
              0.8888888888888888,
              "#fdca26"
             ],
             [
              1,
              "#f0f921"
             ]
            ],
            "type": "contour"
           }
          ],
          "contourcarpet": [
           {
            "colorbar": {
             "outlinewidth": 0,
             "ticks": ""
            },
            "type": "contourcarpet"
           }
          ],
          "heatmap": [
           {
            "colorbar": {
             "outlinewidth": 0,
             "ticks": ""
            },
            "colorscale": [
             [
              0,
              "#0d0887"
             ],
             [
              0.1111111111111111,
              "#46039f"
             ],
             [
              0.2222222222222222,
              "#7201a8"
             ],
             [
              0.3333333333333333,
              "#9c179e"
             ],
             [
              0.4444444444444444,
              "#bd3786"
             ],
             [
              0.5555555555555556,
              "#d8576b"
             ],
             [
              0.6666666666666666,
              "#ed7953"
             ],
             [
              0.7777777777777778,
              "#fb9f3a"
             ],
             [
              0.8888888888888888,
              "#fdca26"
             ],
             [
              1,
              "#f0f921"
             ]
            ],
            "type": "heatmap"
           }
          ],
          "heatmapgl": [
           {
            "colorbar": {
             "outlinewidth": 0,
             "ticks": ""
            },
            "colorscale": [
             [
              0,
              "#0d0887"
             ],
             [
              0.1111111111111111,
              "#46039f"
             ],
             [
              0.2222222222222222,
              "#7201a8"
             ],
             [
              0.3333333333333333,
              "#9c179e"
             ],
             [
              0.4444444444444444,
              "#bd3786"
             ],
             [
              0.5555555555555556,
              "#d8576b"
             ],
             [
              0.6666666666666666,
              "#ed7953"
             ],
             [
              0.7777777777777778,
              "#fb9f3a"
             ],
             [
              0.8888888888888888,
              "#fdca26"
             ],
             [
              1,
              "#f0f921"
             ]
            ],
            "type": "heatmapgl"
           }
          ],
          "histogram": [
           {
            "marker": {
             "pattern": {
              "fillmode": "overlay",
              "size": 10,
              "solidity": 0.2
             }
            },
            "type": "histogram"
           }
          ],
          "histogram2d": [
           {
            "colorbar": {
             "outlinewidth": 0,
             "ticks": ""
            },
            "colorscale": [
             [
              0,
              "#0d0887"
             ],
             [
              0.1111111111111111,
              "#46039f"
             ],
             [
              0.2222222222222222,
              "#7201a8"
             ],
             [
              0.3333333333333333,
              "#9c179e"
             ],
             [
              0.4444444444444444,
              "#bd3786"
             ],
             [
              0.5555555555555556,
              "#d8576b"
             ],
             [
              0.6666666666666666,
              "#ed7953"
             ],
             [
              0.7777777777777778,
              "#fb9f3a"
             ],
             [
              0.8888888888888888,
              "#fdca26"
             ],
             [
              1,
              "#f0f921"
             ]
            ],
            "type": "histogram2d"
           }
          ],
          "histogram2dcontour": [
           {
            "colorbar": {
             "outlinewidth": 0,
             "ticks": ""
            },
            "colorscale": [
             [
              0,
              "#0d0887"
             ],
             [
              0.1111111111111111,
              "#46039f"
             ],
             [
              0.2222222222222222,
              "#7201a8"
             ],
             [
              0.3333333333333333,
              "#9c179e"
             ],
             [
              0.4444444444444444,
              "#bd3786"
             ],
             [
              0.5555555555555556,
              "#d8576b"
             ],
             [
              0.6666666666666666,
              "#ed7953"
             ],
             [
              0.7777777777777778,
              "#fb9f3a"
             ],
             [
              0.8888888888888888,
              "#fdca26"
             ],
             [
              1,
              "#f0f921"
             ]
            ],
            "type": "histogram2dcontour"
           }
          ],
          "mesh3d": [
           {
            "colorbar": {
             "outlinewidth": 0,
             "ticks": ""
            },
            "type": "mesh3d"
           }
          ],
          "parcoords": [
           {
            "line": {
             "colorbar": {
              "outlinewidth": 0,
              "ticks": ""
             }
            },
            "type": "parcoords"
           }
          ],
          "pie": [
           {
            "automargin": true,
            "type": "pie"
           }
          ],
          "scatter": [
           {
            "fillpattern": {
             "fillmode": "overlay",
             "size": 10,
             "solidity": 0.2
            },
            "type": "scatter"
           }
          ],
          "scatter3d": [
           {
            "line": {
             "colorbar": {
              "outlinewidth": 0,
              "ticks": ""
             }
            },
            "marker": {
             "colorbar": {
              "outlinewidth": 0,
              "ticks": ""
             }
            },
            "type": "scatter3d"
           }
          ],
          "scattercarpet": [
           {
            "marker": {
             "colorbar": {
              "outlinewidth": 0,
              "ticks": ""
             }
            },
            "type": "scattercarpet"
           }
          ],
          "scattergeo": [
           {
            "marker": {
             "colorbar": {
              "outlinewidth": 0,
              "ticks": ""
             }
            },
            "type": "scattergeo"
           }
          ],
          "scattergl": [
           {
            "marker": {
             "colorbar": {
              "outlinewidth": 0,
              "ticks": ""
             }
            },
            "type": "scattergl"
           }
          ],
          "scattermapbox": [
           {
            "marker": {
             "colorbar": {
              "outlinewidth": 0,
              "ticks": ""
             }
            },
            "type": "scattermapbox"
           }
          ],
          "scatterpolar": [
           {
            "marker": {
             "colorbar": {
              "outlinewidth": 0,
              "ticks": ""
             }
            },
            "type": "scatterpolar"
           }
          ],
          "scatterpolargl": [
           {
            "marker": {
             "colorbar": {
              "outlinewidth": 0,
              "ticks": ""
             }
            },
            "type": "scatterpolargl"
           }
          ],
          "scatterternary": [
           {
            "marker": {
             "colorbar": {
              "outlinewidth": 0,
              "ticks": ""
             }
            },
            "type": "scatterternary"
           }
          ],
          "surface": [
           {
            "colorbar": {
             "outlinewidth": 0,
             "ticks": ""
            },
            "colorscale": [
             [
              0,
              "#0d0887"
             ],
             [
              0.1111111111111111,
              "#46039f"
             ],
             [
              0.2222222222222222,
              "#7201a8"
             ],
             [
              0.3333333333333333,
              "#9c179e"
             ],
             [
              0.4444444444444444,
              "#bd3786"
             ],
             [
              0.5555555555555556,
              "#d8576b"
             ],
             [
              0.6666666666666666,
              "#ed7953"
             ],
             [
              0.7777777777777778,
              "#fb9f3a"
             ],
             [
              0.8888888888888888,
              "#fdca26"
             ],
             [
              1,
              "#f0f921"
             ]
            ],
            "type": "surface"
           }
          ],
          "table": [
           {
            "cells": {
             "fill": {
              "color": "#EBF0F8"
             },
             "line": {
              "color": "white"
             }
            },
            "header": {
             "fill": {
              "color": "#C8D4E3"
             },
             "line": {
              "color": "white"
             }
            },
            "type": "table"
           }
          ]
         },
         "layout": {
          "annotationdefaults": {
           "arrowcolor": "#2a3f5f",
           "arrowhead": 0,
           "arrowwidth": 1
          },
          "autotypenumbers": "strict",
          "coloraxis": {
           "colorbar": {
            "outlinewidth": 0,
            "ticks": ""
           }
          },
          "colorscale": {
           "diverging": [
            [
             0,
             "#8e0152"
            ],
            [
             0.1,
             "#c51b7d"
            ],
            [
             0.2,
             "#de77ae"
            ],
            [
             0.3,
             "#f1b6da"
            ],
            [
             0.4,
             "#fde0ef"
            ],
            [
             0.5,
             "#f7f7f7"
            ],
            [
             0.6,
             "#e6f5d0"
            ],
            [
             0.7,
             "#b8e186"
            ],
            [
             0.8,
             "#7fbc41"
            ],
            [
             0.9,
             "#4d9221"
            ],
            [
             1,
             "#276419"
            ]
           ],
           "sequential": [
            [
             0,
             "#0d0887"
            ],
            [
             0.1111111111111111,
             "#46039f"
            ],
            [
             0.2222222222222222,
             "#7201a8"
            ],
            [
             0.3333333333333333,
             "#9c179e"
            ],
            [
             0.4444444444444444,
             "#bd3786"
            ],
            [
             0.5555555555555556,
             "#d8576b"
            ],
            [
             0.6666666666666666,
             "#ed7953"
            ],
            [
             0.7777777777777778,
             "#fb9f3a"
            ],
            [
             0.8888888888888888,
             "#fdca26"
            ],
            [
             1,
             "#f0f921"
            ]
           ],
           "sequentialminus": [
            [
             0,
             "#0d0887"
            ],
            [
             0.1111111111111111,
             "#46039f"
            ],
            [
             0.2222222222222222,
             "#7201a8"
            ],
            [
             0.3333333333333333,
             "#9c179e"
            ],
            [
             0.4444444444444444,
             "#bd3786"
            ],
            [
             0.5555555555555556,
             "#d8576b"
            ],
            [
             0.6666666666666666,
             "#ed7953"
            ],
            [
             0.7777777777777778,
             "#fb9f3a"
            ],
            [
             0.8888888888888888,
             "#fdca26"
            ],
            [
             1,
             "#f0f921"
            ]
           ]
          },
          "colorway": [
           "#636efa",
           "#EF553B",
           "#00cc96",
           "#ab63fa",
           "#FFA15A",
           "#19d3f3",
           "#FF6692",
           "#B6E880",
           "#FF97FF",
           "#FECB52"
          ],
          "font": {
           "color": "#2a3f5f"
          },
          "geo": {
           "bgcolor": "white",
           "lakecolor": "white",
           "landcolor": "#E5ECF6",
           "showlakes": true,
           "showland": true,
           "subunitcolor": "white"
          },
          "hoverlabel": {
           "align": "left"
          },
          "hovermode": "closest",
          "mapbox": {
           "style": "light"
          },
          "paper_bgcolor": "white",
          "plot_bgcolor": "#E5ECF6",
          "polar": {
           "angularaxis": {
            "gridcolor": "white",
            "linecolor": "white",
            "ticks": ""
           },
           "bgcolor": "#E5ECF6",
           "radialaxis": {
            "gridcolor": "white",
            "linecolor": "white",
            "ticks": ""
           }
          },
          "scene": {
           "xaxis": {
            "backgroundcolor": "#E5ECF6",
            "gridcolor": "white",
            "gridwidth": 2,
            "linecolor": "white",
            "showbackground": true,
            "ticks": "",
            "zerolinecolor": "white"
           },
           "yaxis": {
            "backgroundcolor": "#E5ECF6",
            "gridcolor": "white",
            "gridwidth": 2,
            "linecolor": "white",
            "showbackground": true,
            "ticks": "",
            "zerolinecolor": "white"
           },
           "zaxis": {
            "backgroundcolor": "#E5ECF6",
            "gridcolor": "white",
            "gridwidth": 2,
            "linecolor": "white",
            "showbackground": true,
            "ticks": "",
            "zerolinecolor": "white"
           }
          },
          "shapedefaults": {
           "line": {
            "color": "#2a3f5f"
           }
          },
          "ternary": {
           "aaxis": {
            "gridcolor": "white",
            "linecolor": "white",
            "ticks": ""
           },
           "baxis": {
            "gridcolor": "white",
            "linecolor": "white",
            "ticks": ""
           },
           "bgcolor": "#E5ECF6",
           "caxis": {
            "gridcolor": "white",
            "linecolor": "white",
            "ticks": ""
           }
          },
          "title": {
           "x": 0.05
          },
          "xaxis": {
           "automargin": true,
           "gridcolor": "white",
           "linecolor": "white",
           "ticks": "",
           "title": {
            "standoff": 15
           },
           "zerolinecolor": "white",
           "zerolinewidth": 2
          },
          "yaxis": {
           "automargin": true,
           "gridcolor": "white",
           "linecolor": "white",
           "ticks": "",
           "title": {
            "standoff": 15
           },
           "zerolinecolor": "white",
           "zerolinewidth": 2
          }
         }
        },
        "title": {
         "text": "Simple Bar Chart"
        }
       }
      }
     },
     "metadata": {},
     "output_type": "display_data"
    }
   ],
   "source": [
    "import plotly.graph_objects as go\n",
    "\n",
    "def create_plot():\n",
    "    # Create a simple figure\n",
    "    fig = go.Figure(data=go.Bar(x=[1, 2, 3], y=[10, 11, 12]))\n",
    "    \n",
    "    # Customize layout if needed\n",
    "    fig.update_layout(title='Simple Bar Chart')\n",
    "    \n",
    "    # Return the figure\n",
    "    return fig\n",
    "\n",
    "# Call the function and get the figure\n",
    "fig = create_plot()\n",
    "\n",
    "# Show the figure\n",
    "fig.show()\n"
   ]
  }
 ],
 "metadata": {
  "kernelspec": {
   "display_name": ".venv",
   "language": "python",
   "name": "python3"
  },
  "language_info": {
   "codemirror_mode": {
    "name": "ipython",
    "version": 3
   },
   "file_extension": ".py",
   "mimetype": "text/x-python",
   "name": "python",
   "nbconvert_exporter": "python",
   "pygments_lexer": "ipython3",
   "version": "3.9.20"
  }
 },
 "nbformat": 4,
 "nbformat_minor": 2
}
