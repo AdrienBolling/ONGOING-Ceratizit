{
 "cells": [
  {
   "cell_type": "code",
   "id": "initial_id",
   "metadata": {
    "collapsed": true,
    "ExecuteTime": {
     "end_time": "2024-10-16T08:49:24.054644Z",
     "start_time": "2024-10-16T08:49:22.473377Z"
    }
   },
   "source": [
    "import numpy as np\n",
    "from ongoing.knowledge.grid import KnowledgeGrid, Technician\n",
    "from ongoing.knowledge.grid import _compute_experience_without_supervisor, _propagate_increase"
   ],
   "outputs": [],
   "execution_count": 2
  },
  {
   "metadata": {
    "ExecuteTime": {
     "end_time": "2024-10-16T08:49:24.059874Z",
     "start_time": "2024-10-16T08:49:24.058146Z"
    }
   },
   "cell_type": "code",
   "source": [
    "# Create a dummy tech\n",
    "tech = Technician(id=0, name='test', learning_rate=0.9)"
   ],
   "id": "5f9bcbddfb19e50d",
   "outputs": [],
   "execution_count": 3
  },
  {
   "metadata": {
    "ExecuteTime": {
     "end_time": "2024-10-16T08:49:24.380432Z",
     "start_time": "2024-10-16T08:49:24.074632Z"
    }
   },
   "cell_type": "code",
   "source": [
    "# Create a technician grid\n",
    "size = (10, 10, 10)\n",
    "features_min = np.array([0, 0, 0, 0])\n",
    "features_max = np.array([1, 1, 1, 1])\n",
    "grid = KnowledgeGrid(size=size, technician=tech, feature_min=features_min, feature_max=features_max)"
   ],
   "id": "9605739981286f59",
   "outputs": [],
   "execution_count": 4
  },
  {
   "metadata": {
    "ExecuteTime": {
     "end_time": "2024-10-16T08:49:24.473224Z",
     "start_time": "2024-10-16T08:49:24.385681Z"
    }
   },
   "cell_type": "code",
   "source": [
    "# Load the embeddings\n",
    "\n"
   ],
   "id": "8555395fbace9679",
   "outputs": [],
   "execution_count": 5
  }
 ],
 "metadata": {
  "kernelspec": {
   "display_name": "Python 3",
   "language": "python",
   "name": "python3"
  },
  "language_info": {
   "codemirror_mode": {
    "name": "ipython",
    "version": 2
   },
   "file_extension": ".py",
   "mimetype": "text/x-python",
   "name": "python",
   "nbconvert_exporter": "python",
   "pygments_lexer": "ipython2",
   "version": "2.7.6"
  }
 },
 "nbformat": 4,
 "nbformat_minor": 5
}
